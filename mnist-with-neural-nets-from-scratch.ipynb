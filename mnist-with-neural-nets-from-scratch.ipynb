{
 "cells": [
  {
   "cell_type": "code",
   "execution_count": 1,
   "id": "2609775b",
   "metadata": {
    "_cell_guid": "b1076dfc-b9ad-4769-8c92-a6c4dae69d19",
    "_uuid": "8f2839f25d086af736a60e9eeb907d3b93b6e0e5",
    "execution": {
     "iopub.execute_input": "2023-03-13T12:28:26.402680Z",
     "iopub.status.busy": "2023-03-13T12:28:26.402118Z",
     "iopub.status.idle": "2023-03-13T12:28:26.414308Z",
     "shell.execute_reply": "2023-03-13T12:28:26.413190Z"
    },
    "papermill": {
     "duration": 0.021974,
     "end_time": "2023-03-13T12:28:26.416905",
     "exception": false,
     "start_time": "2023-03-13T12:28:26.394931",
     "status": "completed"
    },
    "tags": []
   },
   "outputs": [],
   "source": [
    "import numpy as np\n",
    "import pandas as pd\n",
    "from matplotlib import pyplot as plt"
   ]
  },
  {
   "cell_type": "code",
   "execution_count": 2,
   "id": "9a2c832e",
   "metadata": {
    "execution": {
     "iopub.execute_input": "2023-03-13T12:28:26.427858Z",
     "iopub.status.busy": "2023-03-13T12:28:26.427430Z",
     "iopub.status.idle": "2023-03-13T12:28:30.355328Z",
     "shell.execute_reply": "2023-03-13T12:28:30.353809Z"
    },
    "papermill": {
     "duration": 3.936916,
     "end_time": "2023-03-13T12:28:30.358540",
     "exception": false,
     "start_time": "2023-03-13T12:28:26.421624",
     "status": "completed"
    },
    "tags": []
   },
   "outputs": [],
   "source": [
    "data = pd.read_csv('/kaggle/input/digit-recognizer/train.csv')"
   ]
  },
  {
   "cell_type": "code",
   "execution_count": 3,
   "id": "8b639490",
   "metadata": {
    "execution": {
     "iopub.execute_input": "2023-03-13T12:28:30.369165Z",
     "iopub.status.busy": "2023-03-13T12:28:30.368733Z",
     "iopub.status.idle": "2023-03-13T12:28:30.405956Z",
     "shell.execute_reply": "2023-03-13T12:28:30.404474Z"
    },
    "papermill": {
     "duration": 0.046845,
     "end_time": "2023-03-13T12:28:30.409880",
     "exception": false,
     "start_time": "2023-03-13T12:28:30.363035",
     "status": "completed"
    },
    "tags": []
   },
   "outputs": [
    {
     "data": {
      "text/html": [
       "<div>\n",
       "<style scoped>\n",
       "    .dataframe tbody tr th:only-of-type {\n",
       "        vertical-align: middle;\n",
       "    }\n",
       "\n",
       "    .dataframe tbody tr th {\n",
       "        vertical-align: top;\n",
       "    }\n",
       "\n",
       "    .dataframe thead th {\n",
       "        text-align: right;\n",
       "    }\n",
       "</style>\n",
       "<table border=\"1\" class=\"dataframe\">\n",
       "  <thead>\n",
       "    <tr style=\"text-align: right;\">\n",
       "      <th></th>\n",
       "      <th>label</th>\n",
       "      <th>pixel0</th>\n",
       "      <th>pixel1</th>\n",
       "      <th>pixel2</th>\n",
       "      <th>pixel3</th>\n",
       "      <th>pixel4</th>\n",
       "      <th>pixel5</th>\n",
       "      <th>pixel6</th>\n",
       "      <th>pixel7</th>\n",
       "      <th>pixel8</th>\n",
       "      <th>...</th>\n",
       "      <th>pixel774</th>\n",
       "      <th>pixel775</th>\n",
       "      <th>pixel776</th>\n",
       "      <th>pixel777</th>\n",
       "      <th>pixel778</th>\n",
       "      <th>pixel779</th>\n",
       "      <th>pixel780</th>\n",
       "      <th>pixel781</th>\n",
       "      <th>pixel782</th>\n",
       "      <th>pixel783</th>\n",
       "    </tr>\n",
       "  </thead>\n",
       "  <tbody>\n",
       "    <tr>\n",
       "      <th>0</th>\n",
       "      <td>1</td>\n",
       "      <td>0</td>\n",
       "      <td>0</td>\n",
       "      <td>0</td>\n",
       "      <td>0</td>\n",
       "      <td>0</td>\n",
       "      <td>0</td>\n",
       "      <td>0</td>\n",
       "      <td>0</td>\n",
       "      <td>0</td>\n",
       "      <td>...</td>\n",
       "      <td>0</td>\n",
       "      <td>0</td>\n",
       "      <td>0</td>\n",
       "      <td>0</td>\n",
       "      <td>0</td>\n",
       "      <td>0</td>\n",
       "      <td>0</td>\n",
       "      <td>0</td>\n",
       "      <td>0</td>\n",
       "      <td>0</td>\n",
       "    </tr>\n",
       "    <tr>\n",
       "      <th>1</th>\n",
       "      <td>0</td>\n",
       "      <td>0</td>\n",
       "      <td>0</td>\n",
       "      <td>0</td>\n",
       "      <td>0</td>\n",
       "      <td>0</td>\n",
       "      <td>0</td>\n",
       "      <td>0</td>\n",
       "      <td>0</td>\n",
       "      <td>0</td>\n",
       "      <td>...</td>\n",
       "      <td>0</td>\n",
       "      <td>0</td>\n",
       "      <td>0</td>\n",
       "      <td>0</td>\n",
       "      <td>0</td>\n",
       "      <td>0</td>\n",
       "      <td>0</td>\n",
       "      <td>0</td>\n",
       "      <td>0</td>\n",
       "      <td>0</td>\n",
       "    </tr>\n",
       "    <tr>\n",
       "      <th>2</th>\n",
       "      <td>1</td>\n",
       "      <td>0</td>\n",
       "      <td>0</td>\n",
       "      <td>0</td>\n",
       "      <td>0</td>\n",
       "      <td>0</td>\n",
       "      <td>0</td>\n",
       "      <td>0</td>\n",
       "      <td>0</td>\n",
       "      <td>0</td>\n",
       "      <td>...</td>\n",
       "      <td>0</td>\n",
       "      <td>0</td>\n",
       "      <td>0</td>\n",
       "      <td>0</td>\n",
       "      <td>0</td>\n",
       "      <td>0</td>\n",
       "      <td>0</td>\n",
       "      <td>0</td>\n",
       "      <td>0</td>\n",
       "      <td>0</td>\n",
       "    </tr>\n",
       "    <tr>\n",
       "      <th>3</th>\n",
       "      <td>4</td>\n",
       "      <td>0</td>\n",
       "      <td>0</td>\n",
       "      <td>0</td>\n",
       "      <td>0</td>\n",
       "      <td>0</td>\n",
       "      <td>0</td>\n",
       "      <td>0</td>\n",
       "      <td>0</td>\n",
       "      <td>0</td>\n",
       "      <td>...</td>\n",
       "      <td>0</td>\n",
       "      <td>0</td>\n",
       "      <td>0</td>\n",
       "      <td>0</td>\n",
       "      <td>0</td>\n",
       "      <td>0</td>\n",
       "      <td>0</td>\n",
       "      <td>0</td>\n",
       "      <td>0</td>\n",
       "      <td>0</td>\n",
       "    </tr>\n",
       "    <tr>\n",
       "      <th>4</th>\n",
       "      <td>0</td>\n",
       "      <td>0</td>\n",
       "      <td>0</td>\n",
       "      <td>0</td>\n",
       "      <td>0</td>\n",
       "      <td>0</td>\n",
       "      <td>0</td>\n",
       "      <td>0</td>\n",
       "      <td>0</td>\n",
       "      <td>0</td>\n",
       "      <td>...</td>\n",
       "      <td>0</td>\n",
       "      <td>0</td>\n",
       "      <td>0</td>\n",
       "      <td>0</td>\n",
       "      <td>0</td>\n",
       "      <td>0</td>\n",
       "      <td>0</td>\n",
       "      <td>0</td>\n",
       "      <td>0</td>\n",
       "      <td>0</td>\n",
       "    </tr>\n",
       "  </tbody>\n",
       "</table>\n",
       "<p>5 rows × 785 columns</p>\n",
       "</div>"
      ],
      "text/plain": [
       "   label  pixel0  pixel1  pixel2  pixel3  pixel4  pixel5  pixel6  pixel7  \\\n",
       "0      1       0       0       0       0       0       0       0       0   \n",
       "1      0       0       0       0       0       0       0       0       0   \n",
       "2      1       0       0       0       0       0       0       0       0   \n",
       "3      4       0       0       0       0       0       0       0       0   \n",
       "4      0       0       0       0       0       0       0       0       0   \n",
       "\n",
       "   pixel8  ...  pixel774  pixel775  pixel776  pixel777  pixel778  pixel779  \\\n",
       "0       0  ...         0         0         0         0         0         0   \n",
       "1       0  ...         0         0         0         0         0         0   \n",
       "2       0  ...         0         0         0         0         0         0   \n",
       "3       0  ...         0         0         0         0         0         0   \n",
       "4       0  ...         0         0         0         0         0         0   \n",
       "\n",
       "   pixel780  pixel781  pixel782  pixel783  \n",
       "0         0         0         0         0  \n",
       "1         0         0         0         0  \n",
       "2         0         0         0         0  \n",
       "3         0         0         0         0  \n",
       "4         0         0         0         0  \n",
       "\n",
       "[5 rows x 785 columns]"
      ]
     },
     "execution_count": 3,
     "metadata": {},
     "output_type": "execute_result"
    }
   ],
   "source": [
    "data.head()"
   ]
  },
  {
   "cell_type": "code",
   "execution_count": 4,
   "id": "3be2f38b",
   "metadata": {
    "execution": {
     "iopub.execute_input": "2023-03-13T12:28:30.420654Z",
     "iopub.status.busy": "2023-03-13T12:28:30.420265Z",
     "iopub.status.idle": "2023-03-13T12:28:30.545700Z",
     "shell.execute_reply": "2023-03-13T12:28:30.544442Z"
    },
    "papermill": {
     "duration": 0.134066,
     "end_time": "2023-03-13T12:28:30.548548",
     "exception": false,
     "start_time": "2023-03-13T12:28:30.414482",
     "status": "completed"
    },
    "tags": []
   },
   "outputs": [],
   "source": [
    "data= np.array(data)"
   ]
  },
  {
   "cell_type": "code",
   "execution_count": 5,
   "id": "e3761e9e",
   "metadata": {
    "execution": {
     "iopub.execute_input": "2023-03-13T12:28:30.559547Z",
     "iopub.status.busy": "2023-03-13T12:28:30.558772Z",
     "iopub.status.idle": "2023-03-13T12:28:30.567218Z",
     "shell.execute_reply": "2023-03-13T12:28:30.566047Z"
    },
    "papermill": {
     "duration": 0.016636,
     "end_time": "2023-03-13T12:28:30.569623",
     "exception": false,
     "start_time": "2023-03-13T12:28:30.552987",
     "status": "completed"
    },
    "tags": []
   },
   "outputs": [
    {
     "data": {
      "text/plain": [
       "array([[1, 0, 0, ..., 0, 0, 0],\n",
       "       [0, 0, 0, ..., 0, 0, 0],\n",
       "       [1, 0, 0, ..., 0, 0, 0],\n",
       "       ...,\n",
       "       [7, 0, 0, ..., 0, 0, 0],\n",
       "       [6, 0, 0, ..., 0, 0, 0],\n",
       "       [9, 0, 0, ..., 0, 0, 0]])"
      ]
     },
     "execution_count": 5,
     "metadata": {},
     "output_type": "execute_result"
    }
   ],
   "source": [
    "data"
   ]
  },
  {
   "cell_type": "code",
   "execution_count": 6,
   "id": "ea766460",
   "metadata": {
    "execution": {
     "iopub.execute_input": "2023-03-13T12:28:30.580230Z",
     "iopub.status.busy": "2023-03-13T12:28:30.579791Z",
     "iopub.status.idle": "2023-03-13T12:28:31.519861Z",
     "shell.execute_reply": "2023-03-13T12:28:31.518577Z"
    },
    "papermill": {
     "duration": 0.94885,
     "end_time": "2023-03-13T12:28:31.523047",
     "exception": false,
     "start_time": "2023-03-13T12:28:30.574197",
     "status": "completed"
    },
    "tags": []
   },
   "outputs": [],
   "source": [
    "data = np.array(data)\n",
    "m, n = data.shape\n",
    "np.random.shuffle(data) # shuffle before splitting into dev and training sets\n",
    "\n",
    "data_dev = data[0:1000].T\n",
    "Y_dev = data_dev[0]\n",
    "X_dev = data_dev[1:n]\n",
    "X_dev = X_dev / 255.\n",
    "\n",
    "data_train = data[1000:m].T\n",
    "Y_train = data_train[0]\n",
    "X_train = data_train[1:n]\n",
    "X_train = X_train / 255.\n",
    "_,m_train = X_train.shape"
   ]
  },
  {
   "cell_type": "code",
   "execution_count": 7,
   "id": "46d58446",
   "metadata": {
    "execution": {
     "iopub.execute_input": "2023-03-13T12:28:31.534867Z",
     "iopub.status.busy": "2023-03-13T12:28:31.534489Z",
     "iopub.status.idle": "2023-03-13T12:28:31.541535Z",
     "shell.execute_reply": "2023-03-13T12:28:31.540616Z"
    },
    "papermill": {
     "duration": 0.015521,
     "end_time": "2023-03-13T12:28:31.543838",
     "exception": false,
     "start_time": "2023-03-13T12:28:31.528317",
     "status": "completed"
    },
    "tags": []
   },
   "outputs": [
    {
     "data": {
      "text/plain": [
       "array([7, 5, 7, ..., 2, 3, 1])"
      ]
     },
     "execution_count": 7,
     "metadata": {},
     "output_type": "execute_result"
    }
   ],
   "source": [
    "Y_train"
   ]
  },
  {
   "cell_type": "code",
   "execution_count": 8,
   "id": "0a458f09",
   "metadata": {
    "execution": {
     "iopub.execute_input": "2023-03-13T12:28:31.555074Z",
     "iopub.status.busy": "2023-03-13T12:28:31.554663Z",
     "iopub.status.idle": "2023-03-13T12:28:31.568871Z",
     "shell.execute_reply": "2023-03-13T12:28:31.567520Z"
    },
    "papermill": {
     "duration": 0.022824,
     "end_time": "2023-03-13T12:28:31.571471",
     "exception": false,
     "start_time": "2023-03-13T12:28:31.548647",
     "status": "completed"
    },
    "tags": []
   },
   "outputs": [],
   "source": [
    "def init_params():\n",
    "    W1 = np.random.rand(10, 784) - 0.5\n",
    "    b1 = np.random.rand(10, 1) - 0.5\n",
    "    W2 = np.random.rand(10, 10) - 0.5\n",
    "    b2 = np.random.rand(10, 1) - 0.5\n",
    "    return W1, b1, W2, b2\n",
    "\n",
    "def ReLU(Z):\n",
    "    return np.maximum(Z, 0)\n",
    "\n",
    "def softmax(Z):\n",
    "    A = np.exp(Z) / sum(np.exp(Z))\n",
    "    return A\n",
    "    \n",
    "def forward_prop(W1, b1, W2, b2, X):\n",
    "    Z1 = W1.dot(X) + b1\n",
    "    A1 = ReLU(Z1)\n",
    "    Z2 = W2.dot(A1) + b2\n",
    "    A2 = softmax(Z2)\n",
    "    return Z1, A1, Z2, A2\n",
    "\n",
    "def ReLU_deriv(Z):\n",
    "    return Z > 0\n",
    "\n",
    "def one_hot(Y):\n",
    "    one_hot_Y = np.zeros((Y.size, Y.max() + 1))\n",
    "    one_hot_Y[np.arange(Y.size), Y] = 1\n",
    "    one_hot_Y = one_hot_Y.T\n",
    "    return one_hot_Y\n",
    "\n",
    "def backward_prop(Z1, A1, Z2, A2, W1, W2, X, Y):\n",
    "    one_hot_Y = one_hot(Y)\n",
    "    dZ2 = A2 - one_hot_Y\n",
    "    dW2 = 1 / m * dZ2.dot(A1.T)\n",
    "    db2 = 1 / m * np.sum(dZ2)\n",
    "    dZ1 = W2.T.dot(dZ2) * ReLU_deriv(Z1)\n",
    "    dW1 = 1 / m * dZ1.dot(X.T)\n",
    "    db1 = 1 / m * np.sum(dZ1)\n",
    "    return dW1, db1, dW2, db2\n",
    "\n",
    "def update_params(W1, b1, W2, b2, dW1, db1, dW2, db2, alpha):\n",
    "    W1 = W1 - alpha * dW1\n",
    "    b1 = b1 - alpha * db1    \n",
    "    W2 = W2 - alpha * dW2  \n",
    "    b2 = b2 - alpha * db2    \n",
    "    return W1, b1, W2, b2\n"
   ]
  },
  {
   "cell_type": "code",
   "execution_count": 9,
   "id": "f3da2002",
   "metadata": {
    "execution": {
     "iopub.execute_input": "2023-03-13T12:28:31.582351Z",
     "iopub.status.busy": "2023-03-13T12:28:31.581903Z",
     "iopub.status.idle": "2023-03-13T12:28:31.591070Z",
     "shell.execute_reply": "2023-03-13T12:28:31.589921Z"
    },
    "papermill": {
     "duration": 0.01759,
     "end_time": "2023-03-13T12:28:31.593716",
     "exception": false,
     "start_time": "2023-03-13T12:28:31.576126",
     "status": "completed"
    },
    "tags": []
   },
   "outputs": [],
   "source": [
    "def get_predictions(A2):\n",
    "    return np.argmax(A2, 0)\n",
    "\n",
    "def get_accuracy(predictions, Y):\n",
    "    print(predictions, Y)\n",
    "    return np.sum(predictions == Y) / Y.size\n",
    "\n",
    "def gradient_descent(X, Y, alpha, iterations):\n",
    "    W1, b1, W2, b2 = init_params()\n",
    "    for i in range(iterations):\n",
    "        Z1, A1, Z2, A2 = forward_prop(W1, b1, W2, b2, X)\n",
    "        dW1, db1, dW2, db2 = backward_prop(Z1, A1, Z2, A2, W1, W2, X, Y)\n",
    "        W1, b1, W2, b2 = update_params(W1, b1, W2, b2, dW1, db1, dW2, db2, alpha)\n",
    "        if i % 10 == 0:\n",
    "            print(\"Iteration: \", i)\n",
    "            predictions = get_predictions(A2)\n",
    "            print(get_accuracy(predictions, Y))\n",
    "    return W1, b1, W2, b2"
   ]
  },
  {
   "cell_type": "code",
   "execution_count": 10,
   "id": "ff750139",
   "metadata": {
    "execution": {
     "iopub.execute_input": "2023-03-13T12:28:31.605167Z",
     "iopub.status.busy": "2023-03-13T12:28:31.604713Z",
     "iopub.status.idle": "2023-03-13T12:31:33.071595Z",
     "shell.execute_reply": "2023-03-13T12:31:33.069820Z"
    },
    "papermill": {
     "duration": 181.478958,
     "end_time": "2023-03-13T12:31:33.077360",
     "exception": false,
     "start_time": "2023-03-13T12:28:31.598402",
     "status": "completed"
    },
    "tags": []
   },
   "outputs": [
    {
     "name": "stdout",
     "output_type": "stream",
     "text": [
      "Iteration:  0\n",
      "[0 4 8 ... 7 8 0] [7 5 7 ... 2 3 1]\n",
      "0.07514634146341463\n",
      "Iteration:  10\n",
      "[6 6 2 ... 2 4 6] [7 5 7 ... 2 3 1]\n",
      "0.1098780487804878\n",
      "Iteration:  20\n",
      "[6 6 2 ... 2 4 6] [7 5 7 ... 2 3 1]\n",
      "0.1534390243902439\n",
      "Iteration:  30\n",
      "[6 6 2 ... 2 4 6] [7 5 7 ... 2 3 1]\n",
      "0.2153170731707317\n",
      "Iteration:  40\n",
      "[9 6 2 ... 2 4 6] [7 5 7 ... 2 3 1]\n",
      "0.28304878048780485\n",
      "Iteration:  50\n",
      "[7 6 2 ... 2 4 8] [7 5 7 ... 2 3 1]\n",
      "0.33590243902439026\n",
      "Iteration:  60\n",
      "[7 6 5 ... 2 5 8] [7 5 7 ... 2 3 1]\n",
      "0.36660975609756097\n",
      "Iteration:  70\n",
      "[7 6 5 ... 2 5 8] [7 5 7 ... 2 3 1]\n",
      "0.39658536585365856\n",
      "Iteration:  80\n",
      "[7 3 5 ... 2 5 8] [7 5 7 ... 2 3 1]\n",
      "0.42417073170731706\n",
      "Iteration:  90\n",
      "[7 3 3 ... 2 3 8] [7 5 7 ... 2 3 1]\n",
      "0.4786341463414634\n",
      "Iteration:  100\n",
      "[7 3 3 ... 2 3 1] [7 5 7 ... 2 3 1]\n",
      "0.5546585365853659\n",
      "Iteration:  110\n",
      "[7 3 3 ... 2 3 1] [7 5 7 ... 2 3 1]\n",
      "0.5873414634146341\n",
      "Iteration:  120\n",
      "[7 3 3 ... 2 3 1] [7 5 7 ... 2 3 1]\n",
      "0.6114390243902439\n",
      "Iteration:  130\n",
      "[7 3 7 ... 2 3 1] [7 5 7 ... 2 3 1]\n",
      "0.6314634146341463\n",
      "Iteration:  140\n",
      "[7 3 7 ... 2 3 1] [7 5 7 ... 2 3 1]\n",
      "0.6491707317073171\n",
      "Iteration:  150\n",
      "[7 3 7 ... 2 3 1] [7 5 7 ... 2 3 1]\n",
      "0.6632439024390244\n",
      "Iteration:  160\n",
      "[7 3 7 ... 2 3 1] [7 5 7 ... 2 3 1]\n",
      "0.6756829268292683\n",
      "Iteration:  170\n",
      "[7 3 7 ... 2 3 1] [7 5 7 ... 2 3 1]\n",
      "0.6855609756097562\n",
      "Iteration:  180\n",
      "[7 3 7 ... 2 3 1] [7 5 7 ... 2 3 1]\n",
      "0.6956829268292682\n",
      "Iteration:  190\n",
      "[7 3 7 ... 2 3 1] [7 5 7 ... 2 3 1]\n",
      "0.7047073170731707\n",
      "Iteration:  200\n",
      "[7 3 7 ... 2 3 1] [7 5 7 ... 2 3 1]\n",
      "0.7122682926829268\n",
      "Iteration:  210\n",
      "[7 3 7 ... 2 3 1] [7 5 7 ... 2 3 1]\n",
      "0.7200243902439024\n",
      "Iteration:  220\n",
      "[7 3 7 ... 2 5 1] [7 5 7 ... 2 3 1]\n",
      "0.7258780487804878\n",
      "Iteration:  230\n",
      "[7 3 7 ... 2 5 1] [7 5 7 ... 2 3 1]\n",
      "0.7326585365853658\n",
      "Iteration:  240\n",
      "[7 3 7 ... 2 5 1] [7 5 7 ... 2 3 1]\n",
      "0.7388536585365854\n",
      "Iteration:  250\n",
      "[7 3 7 ... 2 5 1] [7 5 7 ... 2 3 1]\n",
      "0.7447073170731707\n",
      "Iteration:  260\n",
      "[7 3 7 ... 2 5 1] [7 5 7 ... 2 3 1]\n",
      "0.7500243902439024\n",
      "Iteration:  270\n",
      "[7 3 7 ... 2 5 1] [7 5 7 ... 2 3 1]\n",
      "0.7546585365853659\n",
      "Iteration:  280\n",
      "[7 3 7 ... 2 5 1] [7 5 7 ... 2 3 1]\n",
      "0.7592926829268293\n",
      "Iteration:  290\n",
      "[7 3 7 ... 2 5 1] [7 5 7 ... 2 3 1]\n",
      "0.7637560975609756\n",
      "Iteration:  300\n",
      "[7 3 7 ... 2 5 1] [7 5 7 ... 2 3 1]\n",
      "0.7681707317073171\n",
      "Iteration:  310\n",
      "[7 3 7 ... 2 5 1] [7 5 7 ... 2 3 1]\n",
      "0.772\n",
      "Iteration:  320\n",
      "[7 3 7 ... 2 5 1] [7 5 7 ... 2 3 1]\n",
      "0.7749756097560976\n",
      "Iteration:  330\n",
      "[7 3 7 ... 2 5 1] [7 5 7 ... 2 3 1]\n",
      "0.7781219512195122\n",
      "Iteration:  340\n",
      "[7 3 7 ... 2 5 1] [7 5 7 ... 2 3 1]\n",
      "0.7816829268292683\n",
      "Iteration:  350\n",
      "[7 3 7 ... 2 5 1] [7 5 7 ... 2 3 1]\n",
      "0.7845365853658537\n",
      "Iteration:  360\n",
      "[7 3 7 ... 2 5 1] [7 5 7 ... 2 3 1]\n",
      "0.7875853658536586\n",
      "Iteration:  370\n",
      "[7 5 7 ... 2 5 1] [7 5 7 ... 2 3 1]\n",
      "0.7901707317073171\n",
      "Iteration:  380\n",
      "[7 5 7 ... 2 5 1] [7 5 7 ... 2 3 1]\n",
      "0.7925121951219513\n",
      "Iteration:  390\n",
      "[7 5 7 ... 2 5 1] [7 5 7 ... 2 3 1]\n",
      "0.7952682926829269\n",
      "Iteration:  400\n",
      "[7 5 7 ... 2 5 1] [7 5 7 ... 2 3 1]\n",
      "0.7976341463414635\n",
      "Iteration:  410\n",
      "[7 5 7 ... 2 5 1] [7 5 7 ... 2 3 1]\n",
      "0.8004146341463415\n",
      "Iteration:  420\n",
      "[7 5 7 ... 2 5 1] [7 5 7 ... 2 3 1]\n",
      "0.8025121951219513\n",
      "Iteration:  430\n",
      "[7 5 7 ... 2 5 1] [7 5 7 ... 2 3 1]\n",
      "0.8043902439024391\n",
      "Iteration:  440\n",
      "[7 5 7 ... 2 5 1] [7 5 7 ... 2 3 1]\n",
      "0.8062926829268293\n",
      "Iteration:  450\n",
      "[7 5 7 ... 2 5 1] [7 5 7 ... 2 3 1]\n",
      "0.8080975609756098\n",
      "Iteration:  460\n",
      "[7 5 7 ... 2 5 1] [7 5 7 ... 2 3 1]\n",
      "0.8099512195121952\n",
      "Iteration:  470\n",
      "[7 5 7 ... 2 5 1] [7 5 7 ... 2 3 1]\n",
      "0.8115365853658537\n",
      "Iteration:  480\n",
      "[7 5 7 ... 2 5 1] [7 5 7 ... 2 3 1]\n",
      "0.8132682926829268\n",
      "Iteration:  490\n",
      "[7 5 7 ... 2 5 1] [7 5 7 ... 2 3 1]\n",
      "0.8150487804878048\n",
      "Iteration:  500\n",
      "[7 5 7 ... 2 5 1] [7 5 7 ... 2 3 1]\n",
      "0.8167317073170731\n",
      "Iteration:  510\n",
      "[7 5 7 ... 2 5 1] [7 5 7 ... 2 3 1]\n",
      "0.818170731707317\n",
      "Iteration:  520\n",
      "[7 5 7 ... 2 5 1] [7 5 7 ... 2 3 1]\n",
      "0.8196341463414634\n",
      "Iteration:  530\n",
      "[7 5 7 ... 2 5 1] [7 5 7 ... 2 3 1]\n",
      "0.821780487804878\n",
      "Iteration:  540\n",
      "[7 5 7 ... 2 5 1] [7 5 7 ... 2 3 1]\n",
      "0.8233658536585365\n",
      "Iteration:  550\n",
      "[7 5 7 ... 2 5 1] [7 5 7 ... 2 3 1]\n",
      "0.8251463414634146\n",
      "Iteration:  560\n",
      "[7 5 7 ... 2 5 1] [7 5 7 ... 2 3 1]\n",
      "0.8261463414634146\n",
      "Iteration:  570\n",
      "[7 5 7 ... 2 5 1] [7 5 7 ... 2 3 1]\n",
      "0.8278780487804878\n",
      "Iteration:  580\n",
      "[7 5 7 ... 2 5 1] [7 5 7 ... 2 3 1]\n",
      "0.8295609756097561\n",
      "Iteration:  590\n",
      "[7 5 7 ... 2 5 1] [7 5 7 ... 2 3 1]\n",
      "0.8311463414634146\n",
      "Iteration:  600\n",
      "[7 5 7 ... 2 5 1] [7 5 7 ... 2 3 1]\n",
      "0.8323658536585365\n",
      "Iteration:  610\n",
      "[7 5 7 ... 2 5 1] [7 5 7 ... 2 3 1]\n",
      "0.8337317073170731\n",
      "Iteration:  620\n",
      "[7 5 7 ... 2 5 1] [7 5 7 ... 2 3 1]\n",
      "0.8350731707317073\n",
      "Iteration:  630\n",
      "[7 5 7 ... 2 5 1] [7 5 7 ... 2 3 1]\n",
      "0.8364390243902439\n",
      "Iteration:  640\n",
      "[7 5 7 ... 2 5 1] [7 5 7 ... 2 3 1]\n",
      "0.8377317073170731\n",
      "Iteration:  650\n",
      "[7 5 7 ... 2 5 1] [7 5 7 ... 2 3 1]\n",
      "0.8390731707317073\n",
      "Iteration:  660\n",
      "[7 5 7 ... 2 5 1] [7 5 7 ... 2 3 1]\n",
      "0.8400731707317073\n",
      "Iteration:  670\n",
      "[7 5 7 ... 2 5 1] [7 5 7 ... 2 3 1]\n",
      "0.841170731707317\n",
      "Iteration:  680\n",
      "[7 5 7 ... 2 3 1] [7 5 7 ... 2 3 1]\n",
      "0.8423414634146341\n",
      "Iteration:  690\n",
      "[7 5 7 ... 2 3 1] [7 5 7 ... 2 3 1]\n",
      "0.8438292682926829\n",
      "Iteration:  700\n",
      "[7 5 7 ... 2 3 1] [7 5 7 ... 2 3 1]\n",
      "0.8448048780487805\n",
      "Iteration:  710\n",
      "[7 5 7 ... 2 3 1] [7 5 7 ... 2 3 1]\n",
      "0.8460731707317073\n",
      "Iteration:  720\n",
      "[7 5 7 ... 2 3 1] [7 5 7 ... 2 3 1]\n",
      "0.8472682926829268\n",
      "Iteration:  730\n",
      "[7 5 7 ... 2 3 1] [7 5 7 ... 2 3 1]\n",
      "0.8482439024390244\n",
      "Iteration:  740\n",
      "[7 5 7 ... 2 3 1] [7 5 7 ... 2 3 1]\n",
      "0.8491219512195122\n",
      "Iteration:  750\n",
      "[7 5 7 ... 2 3 1] [7 5 7 ... 2 3 1]\n",
      "0.8500487804878049\n",
      "Iteration:  760\n",
      "[7 5 7 ... 2 3 1] [7 5 7 ... 2 3 1]\n",
      "0.8511463414634146\n",
      "Iteration:  770\n",
      "[7 5 7 ... 2 3 1] [7 5 7 ... 2 3 1]\n",
      "0.8517317073170732\n",
      "Iteration:  780\n",
      "[7 5 7 ... 2 3 1] [7 5 7 ... 2 3 1]\n",
      "0.8529756097560975\n",
      "Iteration:  790\n",
      "[7 5 7 ... 2 3 1] [7 5 7 ... 2 3 1]\n",
      "0.8539756097560975\n",
      "Iteration:  800\n",
      "[7 5 7 ... 2 3 1] [7 5 7 ... 2 3 1]\n",
      "0.8547317073170732\n",
      "Iteration:  810\n",
      "[7 5 7 ... 2 3 1] [7 5 7 ... 2 3 1]\n",
      "0.8557073170731707\n",
      "Iteration:  820\n",
      "[7 5 7 ... 2 3 1] [7 5 7 ... 2 3 1]\n",
      "0.856609756097561\n",
      "Iteration:  830\n",
      "[7 5 7 ... 2 3 1] [7 5 7 ... 2 3 1]\n",
      "0.8573414634146341\n",
      "Iteration:  840\n",
      "[7 5 7 ... 2 3 1] [7 5 7 ... 2 3 1]\n",
      "0.8582439024390244\n",
      "Iteration:  850\n",
      "[7 5 7 ... 2 3 1] [7 5 7 ... 2 3 1]\n",
      "0.8593170731707317\n",
      "Iteration:  860\n",
      "[7 5 7 ... 2 3 1] [7 5 7 ... 2 3 1]\n",
      "0.8599268292682927\n",
      "Iteration:  870\n",
      "[7 5 7 ... 2 3 1] [7 5 7 ... 2 3 1]\n",
      "0.8607317073170732\n",
      "Iteration:  880\n",
      "[7 5 7 ... 2 3 1] [7 5 7 ... 2 3 1]\n",
      "0.8614390243902439\n",
      "Iteration:  890\n",
      "[7 5 7 ... 2 3 1] [7 5 7 ... 2 3 1]\n",
      "0.8622926829268293\n",
      "Iteration:  900\n",
      "[7 5 7 ... 2 3 1] [7 5 7 ... 2 3 1]\n",
      "0.862780487804878\n",
      "Iteration:  910\n",
      "[7 5 7 ... 2 3 1] [7 5 7 ... 2 3 1]\n",
      "0.8635609756097561\n",
      "Iteration:  920\n",
      "[7 5 7 ... 2 3 1] [7 5 7 ... 2 3 1]\n",
      "0.8643414634146341\n",
      "Iteration:  930\n",
      "[7 5 7 ... 2 3 1] [7 5 7 ... 2 3 1]\n",
      "0.8650487804878049\n",
      "Iteration:  940\n",
      "[7 5 7 ... 2 3 1] [7 5 7 ... 2 3 1]\n",
      "0.8654634146341463\n",
      "Iteration:  950\n",
      "[7 5 7 ... 2 3 1] [7 5 7 ... 2 3 1]\n",
      "0.8661463414634146\n",
      "Iteration:  960\n",
      "[7 5 7 ... 2 3 1] [7 5 7 ... 2 3 1]\n",
      "0.8666341463414634\n",
      "Iteration:  970\n",
      "[7 5 7 ... 2 3 1] [7 5 7 ... 2 3 1]\n",
      "0.8671463414634146\n",
      "Iteration:  980\n",
      "[7 5 7 ... 2 3 1] [7 5 7 ... 2 3 1]\n",
      "0.8677073170731707\n",
      "Iteration:  990\n",
      "[7 5 7 ... 2 3 1] [7 5 7 ... 2 3 1]\n",
      "0.8681219512195122\n"
     ]
    }
   ],
   "source": [
    "W1, b1, W2, b2 = gradient_descent(X_train, Y_train, 0.10, 1000)"
   ]
  },
  {
   "cell_type": "code",
   "execution_count": 11,
   "id": "8dc9a392",
   "metadata": {
    "execution": {
     "iopub.execute_input": "2023-03-13T12:31:33.138737Z",
     "iopub.status.busy": "2023-03-13T12:31:33.137986Z",
     "iopub.status.idle": "2023-03-13T12:31:33.154216Z",
     "shell.execute_reply": "2023-03-13T12:31:33.152451Z"
    },
    "papermill": {
     "duration": 0.052999,
     "end_time": "2023-03-13T12:31:33.160183",
     "exception": false,
     "start_time": "2023-03-13T12:31:33.107184",
     "status": "completed"
    },
    "tags": []
   },
   "outputs": [],
   "source": [
    "def make_predictions(X, W1, b1, W2, b2):\n",
    "    _, _, _, A2 = forward_prop(W1, b1, W2, b2, X)\n",
    "    predictions = get_predictions(A2)\n",
    "    return predictions\n",
    "\n",
    "def test_prediction(index, W1, b1, W2, b2):\n",
    "    current_image = X_train[:, index, None]\n",
    "    prediction = make_predictions(X_train[:, index, None], W1, b1, W2, b2)\n",
    "    label = Y_train[index]\n",
    "    print(\"Prediction: \", prediction)\n",
    "    print(\"Label: \", label)\n",
    "    \n",
    "    current_image = current_image.reshape((28, 28)) * 255\n",
    "    plt.gray()\n",
    "    plt.imshow(current_image, interpolation='nearest')\n",
    "    plt.show()"
   ]
  },
  {
   "cell_type": "code",
   "execution_count": 12,
   "id": "b700de49",
   "metadata": {
    "execution": {
     "iopub.execute_input": "2023-03-13T12:31:33.203336Z",
     "iopub.status.busy": "2023-03-13T12:31:33.202087Z",
     "iopub.status.idle": "2023-03-13T12:31:34.056006Z",
     "shell.execute_reply": "2023-03-13T12:31:34.054668Z"
    },
    "papermill": {
     "duration": 0.868849,
     "end_time": "2023-03-13T12:31:34.058580",
     "exception": false,
     "start_time": "2023-03-13T12:31:33.189731",
     "status": "completed"
    },
    "tags": []
   },
   "outputs": [
    {
     "name": "stdout",
     "output_type": "stream",
     "text": [
      "Prediction:  [7]\n",
      "Label:  7\n"
     ]
    },
    {
     "data": {
      "image/png": "[encoded data removed]",
      "text/plain": [
       "<Figure size 640x480 with 1 Axes>"
      ]
     },
     "metadata": {},
     "output_type": "display_data"
    },
    {
     "name": "stdout",
     "output_type": "stream",
     "text": [
      "Prediction:  [5]\n",
      "Label:  5\n"
     ]
    },
    {
     "data": {
      "image/png": "[encoded data removed]",
      "text/plain": [
       "<Figure size 640x480 with 1 Axes>"
      ]
     },
     "metadata": {},
     "output_type": "display_data"
    },
    {
     "name": "stdout",
     "output_type": "stream",
     "text": [
      "Prediction:  [7]\n",
      "Label:  7\n"
     ]
    },
    {
     "data": {
      "image/png": "[encoded data removed]",
      "text/plain": [
       "<Figure size 640x480 with 1 Axes>"
      ]
     },
     "metadata": {},
     "output_type": "display_data"
    },
    {
     "name": "stdout",
     "output_type": "stream",
     "text": [
      "Prediction:  [3]\n",
      "Label:  8\n"
     ]
    },
    {
     "data": {
      "image/png": "[encoded data removed]",
      "text/plain": [
       "<Figure size 640x480 with 1 Axes>"
      ]
     },
     "metadata": {},
     "output_type": "display_data"
    }
   ],
   "source": [
    "test_prediction(0, W1, b1, W2, b2)\n",
    "test_prediction(1, W1, b1, W2, b2)\n",
    "test_prediction(2, W1, b1, W2, b2)\n",
    "test_prediction(3, W1, b1, W2, b2)"
   ]
  },
  {
   "cell_type": "code",
   "execution_count": 13,
   "id": "96e19669",
   "metadata": {
    "execution": {
     "iopub.execute_input": "2023-03-13T12:31:34.085222Z",
     "iopub.status.busy": "2023-03-13T12:31:34.084104Z",
     "iopub.status.idle": "2023-03-13T12:31:34.113727Z",
     "shell.execute_reply": "2023-03-13T12:31:34.112376Z"
    },
    "papermill": {
     "duration": 0.048319,
     "end_time": "2023-03-13T12:31:34.119034",
     "exception": false,
     "start_time": "2023-03-13T12:31:34.070715",
     "status": "completed"
    },
    "tags": []
   },
   "outputs": [
    {
     "name": "stdout",
     "output_type": "stream",
     "text": [
      "[8 1 2 1 0 9 8 4 1 0 0 1 6 3 1 7 8 2 8 7 5 7 6 7 6 2 1 2 9 2 1 1 8 9 2 1 8\n",
      " 7 1 5 4 6 7 2 1 7 5 8 5 3 9 4 2 2 2 4 0 9 1 3 5 9 0 9 0 3 9 1 1 5 4 1 4 9\n",
      " 2 0 0 8 3 4 9 3 7 1 1 6 0 6 6 1 0 7 0 2 5 1 8 0 0 6 2 3 7 6 9 4 6 6 4 4 7\n",
      " 9 8 1 5 2 7 5 7 8 3 2 7 4 4 4 4 7 0 5 5 9 1 9 9 4 7 3 3 8 7 0 9 2 8 9 2 5\n",
      " 3 0 6 6 6 9 2 9 7 5 8 6 1 0 2 0 9 5 3 9 9 7 0 6 8 4 5 2 6 1 3 1 2 4 6 9 4\n",
      " 7 6 1 2 2 2 7 4 3 2 4 2 8 2 5 5 6 1 8 1 1 4 5 8 5 1 2 9 9 5 3 8 1 5 3 4 0\n",
      " 7 1 2 7 1 3 6 6 0 5 2 1 5 5 7 3 7 7 5 8 6 9 8 5 2 3 3 4 2 9 2 5 1 5 8 5 4\n",
      " 3 0 4 5 3 6 4 1 1 7 2 6 9 2 9 1 0 2 6 1 9 4 8 3 0 3 5 8 0 6 0 7 6 9 6 7 0\n",
      " 7 1 6 1 5 4 8 6 9 3 9 5 0 3 4 7 0 5 8 3 4 7 7 2 7 1 0 8 6 9 8 0 9 7 4 7 3\n",
      " 1 9 5 8 3 9 4 0 6 1 2 5 3 4 6 0 4 1 2 8 1 8 6 3 3 7 4 1 7 9 5 4 6 3 1 2 8\n",
      " 9 0 5 0 7 9 7 8 6 1 1 8 4 0 0 1 8 3 1 8 0 4 4 8 7 0 3 1 5 8 2 2 6 8 3 3 8\n",
      " 3 5 6 0 7 6 9 5 7 8 4 9 1 0 8 8 8 1 0 4 9 5 0 8 2 3 4 1 9 7 7 4 5 7 9 2 3\n",
      " 6 5 2 9 5 2 8 1 8 2 6 1 6 0 3 1 9 1 3 4 2 5 2 2 3 6 2 4 0 4 6 7 4 4 5 8 0\n",
      " 3 2 5 7 0 7 3 9 1 9 2 7 1 3 8 2 0 7 9 7 6 0 6 3 3 8 2 4 5 1 6 4 5 4 1 9 3\n",
      " 1 0 5 6 2 8 3 0 7 0 0 7 1 4 6 9 6 1 6 7 9 3 5 5 5 0 4 7 3 7 5 2 8 6 5 9 2\n",
      " 8 5 7 5 8 2 1 1 9 7 9 8 0 1 9 5 4 4 5 8 8 6 5 1 8 3 3 1 8 7 7 2 5 0 8 9 2\n",
      " 5 6 2 5 9 9 3 6 5 0 2 1 8 9 4 4 2 9 9 5 7 8 3 9 2 3 2 7 3 7 1 2 8 1 1 1 0\n",
      " 1 7 4 3 3 5 7 7 5 2 4 1 4 1 1 4 1 3 3 6 7 1 5 1 3 9 1 2 7 4 9 9 7 5 7 5 9\n",
      " 1 9 5 1 8 7 9 3 7 9 1 8 9 7 9 2 4 7 9 0 8 4 3 2 2 4 9 7 2 6 6 7 9 4 6 5 5\n",
      " 3 0 0 1 6 9 9 8 5 6 0 2 1 6 5 7 3 2 2 8 6 4 1 7 4 2 7 2 3 4 5 5 1 3 3 8 9\n",
      " 2 0 4 1 0 6 9 2 4 7 7 0 5 2 4 6 2 6 6 7 8 7 0 2 3 4 3 7 1 9 8 3 2 8 6 1 2\n",
      " 2 0 5 4 5 9 7 2 6 2 7 0 3 9 3 9 4 4 6 0 3 6 7 2 2 4 7 8 7 4 0 0 7 8 1 4 2\n",
      " 4 5 0 7 7 8 2 9 8 7 7 4 2 1 8 5 1 9 8 0 1 2 2 3 0 0 6 7 4 9 4 1 8 2 7 3 3\n",
      " 9 0 9 9 6 2 5 0 9 8 8 5 5 0 9 1 2 9 4 8 4 0 7 9 6 8 1 0 3 3 7 9 8 4 4 1 2\n",
      " 7 6 3 9 5 8 3 8 1 2 7 7 7 6 8 8 7 3 9 7 2 9 5 0 6 6 9 1 2 7 1 4 8 6 9 2 5\n",
      " 2 3 3 6 3 3 6 6 7 1 8 5 8 4 5 3 0 6 2 0 7 3 8 9 9 6 6 6 0 1 9 6 4 1 4 0 1\n",
      " 4 0 1 9 1 1 2 6 2 1 4 9 6 8 6 2 9 0 5 7 6 4 8 4 5 7 1 5 3 7 0 3 2 6 9 9 3\n",
      " 3] [8 1 2 1 0 9 5 4 1 0 0 1 6 3 1 7 1 7 8 7 5 7 6 7 6 2 1 2 9 2 1 1 8 9 2 1 8\n",
      " 7 7 0 4 6 3 2 1 7 5 8 5 3 9 2 2 2 2 4 0 9 1 3 8 9 0 9 0 3 8 1 1 5 8 3 9 4\n",
      " 2 0 0 8 3 4 4 3 7 1 1 6 0 6 6 1 0 7 0 2 5 1 8 0 0 6 2 3 7 6 9 9 6 6 4 4 7\n",
      " 9 8 1 5 2 7 5 7 3 3 2 2 4 4 4 4 7 0 3 0 9 1 9 9 4 7 3 8 8 7 0 9 2 8 9 2 5\n",
      " 2 0 6 6 6 9 2 9 7 5 2 2 1 0 2 0 7 5 3 9 9 7 0 2 4 9 5 2 6 2 3 1 2 4 6 9 4\n",
      " 7 6 1 2 2 2 7 4 9 2 4 2 8 1 5 5 6 1 5 1 1 4 5 8 5 1 2 9 9 5 3 8 5 5 3 4 0\n",
      " 7 1 3 7 1 3 6 6 0 3 2 1 5 5 7 3 7 7 5 8 6 9 8 5 2 3 8 4 2 9 2 5 1 5 7 5 9\n",
      " 3 0 4 5 1 6 4 1 1 7 2 6 9 2 7 1 0 7 6 1 9 4 8 3 0 3 5 5 0 6 2 7 6 9 6 5 0\n",
      " 3 1 6 8 5 6 8 6 9 3 7 5 0 3 4 7 0 6 8 3 4 7 7 2 7 1 0 8 6 3 9 0 9 7 4 7 3\n",
      " 1 4 5 8 3 9 2 0 6 1 3 2 3 4 6 5 4 1 2 8 1 8 6 3 3 7 4 1 7 9 0 4 3 3 1 2 8\n",
      " 5 0 8 0 7 9 7 8 6 1 1 9 4 0 6 1 8 5 1 5 0 4 4 8 7 0 3 1 5 3 2 2 6 5 5 3 8\n",
      " 3 5 6 0 7 6 9 5 7 8 4 9 2 0 4 8 8 1 0 4 4 5 0 8 2 8 4 1 9 7 7 4 5 7 9 2 3\n",
      " 5 5 2 9 3 2 2 1 8 3 6 1 6 0 5 1 9 1 5 4 2 5 2 2 3 6 2 6 0 4 6 7 4 4 5 8 0\n",
      " 3 2 5 7 0 7 3 9 1 9 2 7 1 3 8 2 0 9 9 7 6 0 6 8 3 8 2 4 5 1 6 7 5 4 1 9 3\n",
      " 1 0 5 6 2 8 3 0 3 0 0 7 1 7 6 9 6 1 6 7 4 0 0 5 5 0 4 7 3 3 5 2 8 6 5 9 2\n",
      " 8 5 7 5 8 2 1 1 9 7 9 8 0 1 9 8 4 4 5 4 3 6 3 1 8 3 3 1 8 9 7 2 5 0 8 9 2\n",
      " 5 6 2 5 9 5 9 6 5 0 2 1 8 9 4 4 6 9 9 5 0 3 3 9 2 3 2 9 3 7 1 2 5 3 1 1 0\n",
      " 1 7 4 3 5 5 7 7 5 2 4 1 4 1 1 4 1 3 3 6 7 1 5 1 2 9 1 2 7 4 9 9 7 5 4 5 9\n",
      " 1 7 5 1 8 7 9 3 7 9 1 8 9 9 9 3 4 7 9 0 8 4 3 2 2 4 9 7 2 6 6 7 9 4 2 5 3\n",
      " 3 0 0 7 6 5 9 8 5 6 0 2 2 6 5 7 3 2 2 8 6 4 1 7 4 2 7 2 3 4 8 5 1 3 3 8 9\n",
      " 2 0 4 1 0 6 9 2 4 9 7 0 5 2 4 6 2 6 6 7 8 7 0 2 3 4 3 9 1 9 8 3 2 8 6 1 2\n",
      " 2 0 5 4 8 9 7 2 6 2 7 0 3 9 5 8 4 9 6 0 3 6 9 2 5 4 7 9 3 4 0 0 9 7 1 4 5\n",
      " 4 5 0 7 7 8 2 9 8 7 7 4 2 1 8 5 1 4 8 6 1 2 2 3 0 0 6 7 9 9 4 1 8 2 7 3 3\n",
      " 9 0 9 9 5 2 5 0 9 8 8 5 5 0 9 1 1 9 4 8 4 0 7 9 6 8 1 0 3 3 7 9 8 4 4 1 2\n",
      " 7 6 5 9 5 8 3 8 1 2 7 7 7 6 8 8 7 9 9 7 2 4 5 0 6 6 9 1 2 7 1 4 8 6 3 2 5\n",
      " 2 3 3 6 5 3 6 6 7 8 8 4 1 4 5 3 0 6 2 0 7 5 8 9 9 6 6 6 0 1 9 6 4 1 4 0 1\n",
      " 4 0 1 4 1 1 2 6 3 1 4 9 6 8 6 2 9 0 5 7 6 4 8 5 5 7 1 5 3 7 7 3 8 6 9 7 3\n",
      " 3]\n"
     ]
    },
    {
     "data": {
      "text/plain": [
       "0.856"
      ]
     },
     "execution_count": 13,
     "metadata": {},
     "output_type": "execute_result"
    }
   ],
   "source": [
    "dev_predictions = make_predictions(X_dev, W1, b1, W2, b2)\n",
    "get_accuracy(dev_predictions, Y_dev)"
   ]
  }
 ],
 "metadata": {
  "kernelspec": {
   "display_name": "Python 3",
   "language": "python",
   "name": "python3"
  },
  "language_info": {
   "codemirror_mode": {
    "name": "ipython",
    "version": 3
   },
   "file_extension": ".py",
   "mimetype": "text/x-python",
   "name": "python",
   "nbconvert_exporter": "python",
   "pygments_lexer": "ipython3",
   "version": "3.7.12"
  },
  "papermill": {
   "default_parameters": {},
   "duration": 199.327998,
   "end_time": "2023-03-13T12:31:34.883022",
   "environment_variables": {},
   "exception": null,
   "input_path": "__notebook__.ipynb",
   "output_path": "__notebook__.ipynb",
   "parameters": {},
   "start_time": "2023-03-13T12:28:15.555024",
   "version": "2.4.0"
  }
 },
 "nbformat": 4,
 "nbformat_minor": 5
}
